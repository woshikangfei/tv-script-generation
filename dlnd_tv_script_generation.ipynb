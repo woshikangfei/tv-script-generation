{
 "cells": [
  {
   "cell_type": "markdown",
   "metadata": {},
   "source": [
    "# TV Script Generation 电视剧脚本生成\n",
    "In this project, you'll generate your own [Simpsons](https://en.wikipedia.org/wiki/The_Simpsons) TV scripts using RNNs.  You'll be using part of the [Simpsons dataset](https://www.kaggle.com/wcukierski/the-simpsons-by-the-data) of scripts from 27 seasons.  The Neural Network you'll build will generate a new TV script for a scene at [Moe's Tavern](https://simpsonswiki.com/wiki/Moe's_Tavern).\n",
    "\n",
    "在这个项目中，您将使用RNN生成您自己的辛普森电视剧剧本。 您将在27个季节中使用Simpsons脚本数据集的一部分。 您将构建的神经网络将为Moe's Tavern的场景生成一个新的电视剧。\n",
    "## Get the Data\n",
    "The data is already provided for you.  You'll be using a subset of the original dataset.  It consists of only the scenes in Moe's Tavern.  This doesn't include other versions of the tavern, like \"Moe's Cavern\", \"Flaming Moe's\", \"Uncle Moe's Family Feed-Bag\", etc..\n",
    "\n",
    "数据已经为您提供。 您将使用原始数据集的子集。 它只由Moe的小酒馆的场景组成。 这不包括其他版本的酒馆，如“Moe's Cavern”，“Flaming Moe's”，“Moe's Family Feed-Bag”等。"
   ]
  },
  {
   "cell_type": "code",
   "execution_count": 2,
   "metadata": {
    "collapsed": true
   },
   "outputs": [],
   "source": [
    "\"\"\"\n",
    "DON'T MODIFY ANYTHING IN THIS CELL\n",
    "\"\"\"\n",
    "import helper\n",
    "\n",
    "data_dir = './data/simpsons/moes_tavern_lines.txt'\n",
    "text = helper.load_data(data_dir)\n",
    "# 删除文本前面的无用信息\n",
    "text = text[81:]\n"
   ]
  },
  {
   "cell_type": "markdown",
   "metadata": {},
   "source": [
    "## Explore the Data 展示数据\n",
    "Play around with `view_sentence_range` to view different parts of the data.<br>\n",
    "查看数据的不同部分。"
   ]
  },
  {
   "cell_type": "code",
   "execution_count": 4,
   "metadata": {},
   "outputs": [
    {
     "name": "stdout",
     "output_type": "stream",
     "text": [
      "Dataset Stats\n",
      "Roughly the number of unique words: 11492\n",
      "Number of scenes: 262\n",
      "Average number of sentences in each scene: 15.248091603053435\n",
      "Number of lines: 4257\n",
      "Average number of words in each line: 11.50434578341555\n",
      "\n",
      "The sentences 0 to 10:\n",
      "Moe_Szyslak: (INTO PHONE) Moe's Tavern. Where the elite meet to drink.\n",
      "Bart_Simpson: Eh, yeah, hello, is Mike there? Last name, Rotch.\n",
      "Moe_Szyslak: (INTO PHONE) Hold on, I'll check. (TO BARFLIES) Mike Rotch. Mike Rotch. Hey, has anybody seen Mike Rotch, lately?\n",
      "Moe_Szyslak: (INTO PHONE) Listen you little puke. One of these days I'm gonna catch you, and I'm gonna carve my name on your back with an ice pick.\n",
      "Moe_Szyslak: What's the matter Homer? You're not your normal effervescent self.\n",
      "Homer_Simpson: I got my problems, Moe. Give me another one.\n",
      "Moe_Szyslak: Homer, hey, you should not drink to forget your problems.\n",
      "Barney_Gumble: Yeah, you should only drink to enhance your social skills.\n",
      "\n",
      "\n"
     ]
    }
   ],
   "source": [
    "view_sentence_range = (0, 10)\n",
    "\n",
    "\"\"\"\n",
    "DON'T MODIFY ANYTHING IN THIS CELL\n",
    "\"\"\"\n",
    "import numpy as np\n",
    "\n",
    "print('Dataset Stats')\n",
    "print('Roughly the number of unique words: {}'.format(len({word: None for word in text.split()})))\n",
    "scenes = text.split('\\n\\n')\n",
    "print('Number of scenes: {}'.format(len(scenes)))\n",
    "sentence_count_scene = [scene.count('\\n') for scene in scenes]\n",
    "print('Average number of sentences in each scene: {}'.format(np.average(sentence_count_scene)))\n",
    "\n",
    "sentences = [sentence for scene in scenes for sentence in scene.split('\\n')]\n",
    "print('Number of lines: {}'.format(len(sentences)))\n",
    "word_count_sentence = [len(sentence.split()) for sentence in sentences]\n",
    "print('Average number of words in each line: {}'.format(np.average(word_count_sentence)))\n",
    "\n",
    "print()\n",
    "print('The sentences {} to {}:'.format(*view_sentence_range))\n",
    "print('\\n'.join(text.split('\\n')[view_sentence_range[0]:view_sentence_range[1]]))"
   ]
  },
  {
   "cell_type": "markdown",
   "metadata": {},
   "source": [
    "## Implement Preprocessing Functions 实现预处理功能\n",
    "The first thing to do to any dataset is preprocessing.  Implement the following preprocessing functions below:\n",
    "- Lookup Table\n",
    "- Tokenize Punctuation<br>\n",
    "任何数据集的首要任务是预处理。 实现以下预处理功能：\n",
    "- 查找表\n",
    "- 标记标点符号\n",
    "\n",
    "### Lookup Table 查找表\n",
    "To create a word embedding, you first need to transform the words to ids.  In this function, create two dictionaries:\n",
    "- Dictionary to go from the words to an id, we'll call `vocab_to_int`\n",
    "- Dictionary to go from the id to word, we'll call `int_to_vocab`\n",
    "\n",
    "Return these dictionaries in the following tuple `(vocab_to_int, int_to_vocab)`\n",
    "<br>\n",
    "要创建一个单词嵌入，您首先需要将单词转换为ids。 在此功能中，创建两个字典：<br>\n",
    "字典从词到id，我们将调用vocab_to_int<br>\n",
    "从id到word的字典，我们将调用int_to_vocab<br>\n",
    "在以下元组中返回这些字典（vocab_to_int，int_to_vocab）<br>"
   ]
  },
  {
   "cell_type": "code",
   "execution_count": 5,
   "metadata": {},
   "outputs": [
    {
     "name": "stdout",
     "output_type": "stream",
     "text": [
      "Tests Passed\n"
     ]
    }
   ],
   "source": [
    "import numpy as np\n",
    "import problem_unittests as tests\n",
    "\n",
    "def create_lookup_tables(text):\n",
    "    \"\"\"\n",
    "    为词汇创建查找表\n",
    "    :param text: 电视剧脚本的文本分为单词\n",
    "    :return: 一组元组（vocab_to_int，int_to_vocab）\n",
    "    \"\"\"\n",
    "    vocab = set(text)\n",
    "    vocab_to_int ={word: ind for ind,word in enumerate(vocab)}\n",
    "    int_to_vocab =dict(enumerate(vocab))\n",
    "    return vocab_to_int, int_to_vocab\n",
    "\n",
    "\n",
    "\"\"\"\n",
    "DON'T MODIFY ANYTHING IN THIS CELL THAT IS BELOW THIS LINE\n",
    "\"\"\"\n",
    "tests.test_create_lookup_tables(create_lookup_tables)"
   ]
  },
  {
   "cell_type": "markdown",
   "metadata": {},
   "source": [
    "### Tokenize Punctuation\n",
    "We'll be splitting the script into a word array using spaces as delimiters.  However, punctuations like periods and exclamation marks make it hard for the neural network to distinguish between the word \"bye\" and \"bye!\".\n",
    "\n",
    "Implement the function `token_lookup` to return a dict that will be used to tokenize symbols like \"!\" into \"||Exclamation_Mark||\".  Create a dictionary for the following symbols where the symbol is the key and value is the token:\n",
    "- Period ( . )\n",
    "- Comma ( , )\n",
    "- Quotation Mark ( \" )\n",
    "- Semicolon ( ; )\n",
    "- Exclamation mark ( ! )\n",
    "- Question mark ( ? )\n",
    "- Left Parentheses ( ( )\n",
    "- Right Parentheses ( ) )\n",
    "- Dash ( -- )\n",
    "- Return ( \\n )\n",
    "\n",
    "This dictionary will be used to token the symbols and add the delimiter (space) around it.  This separates the symbols as it's own word, making it easier for the neural network to predict on the next word. Make sure you don't use a token that could be confused as a word. Instead of using the token \"dash\", try using something like \"||dash||\".\n",
    "<br>\n",
    "### 标记标点符号\n",
    "我们将使用空格作为分隔符将脚本分割成一个单词数组。然而，像句点和感叹号这样的标点使得神经网络难以区分“再见”和“再见”一词。\n",
    "\n",
    "实现函数“token_lookup”来返回一个将用于标记符号的dict，如“！”进入“|| Exclamation_Mark ||”。为符号为关键字，值为令牌的以下符号创建字典：\n",
    "- 期间（。）\n",
    "- 逗号（，）\n",
    "- 引号（“”）\n",
    "- 分号（;）\n",
    "- 感叹号（！）\n",
    "- 问号（？）\n",
    "- 左括号（（）\n",
    "- 右括号（））\n",
    "- 破折号（ - ）\n",
    "- 返回（\\ n）\n",
    "\n",
    "该字典将用于标记符号，并在其周围添加分隔符（空格）。这将符号与自己的单词分开，使得神经网络更容易预测下一个单词。确保您不要使用可能会被误解为一个字的令牌。而不是使用令牌“破折号”，请尝试使用像“|| dash ||”这样的东西。"
   ]
  },
  {
   "cell_type": "code",
   "execution_count": 6,
   "metadata": {},
   "outputs": [
    {
     "name": "stdout",
     "output_type": "stream",
     "text": [
      "Tests Passed\n"
     ]
    }
   ],
   "source": [
    "def token_lookup():\n",
    "    \"\"\"\n",
    "    生成一个dict，将标点符号转换为令牌。\n",
    "    :return: 标记字典，其中键是标点符号，值是令牌\n",
    "    \"\"\"\n",
    "    return {'.' : '||Period||',\n",
    "            ',' : '||Comma||',\n",
    "            '\"' : '||Quotation_Mark||',\n",
    "            ';' : '||Semicolon||',\n",
    "            '!' : '||Exclamation_Mark||',\n",
    "            '?' : '||Question_Mark||',\n",
    "            '(' : '||Left_Parentheses||',\n",
    "            ')' : '||Right_Parentheses||',\n",
    "            '--': '||Dash||',\n",
    "            '\\n': '||Return||'}\n",
    "\n",
    "\"\"\"\n",
    "DON'T MODIFY ANYTHING IN THIS CELL THAT IS BELOW THIS LINE\n",
    "\"\"\"\n",
    "tests.test_tokenize(token_lookup)"
   ]
  },
  {
   "cell_type": "markdown",
   "metadata": {},
   "source": [
    "## Preprocess all the data and save it\n",
    "Running the code cell below will preprocess all the data and save it to file.\n",
    "## 预处理所有数据并保存\n",
    "运行下面的代码单元将预处理所有的数据并保存到文件。"
   ]
  },
  {
   "cell_type": "code",
   "execution_count": 7,
   "metadata": {
    "collapsed": true
   },
   "outputs": [],
   "source": [
    "\"\"\"\n",
    "DON'T MODIFY ANYTHING IN THIS CELL\n",
    "\"\"\"\n",
    "# Preprocess Training, Validation, and Testing Data\n",
    "helper.preprocess_and_save_data(data_dir, token_lookup, create_lookup_tables)"
   ]
  },
  {
   "cell_type": "markdown",
   "metadata": {},
   "source": [
    "# Check Point\n",
    "This is your first checkpoint. If you ever decide to come back to this notebook or have to restart the notebook, you can start from here. The preprocessed data has been saved to disk.\n",
    "# 检查点\n",
    "这是你的第一个检查点。 如果你决定回到笔记本电脑或者重新启动笔记本电脑，你可以从这里开始。 预处理数据已保存到磁盘。"
   ]
  },
  {
   "cell_type": "code",
   "execution_count": 8,
   "metadata": {
    "collapsed": true
   },
   "outputs": [],
   "source": [
    "\"\"\"\n",
    "DON'T MODIFY ANYTHING IN THIS CELL\n",
    "\"\"\"\n",
    "import helper\n",
    "import numpy as np\n",
    "import problem_unittests as tests\n",
    "\n",
    "int_text, vocab_to_int, int_to_vocab, token_dict = helper.load_preprocess()"
   ]
  },
  {
   "cell_type": "markdown",
   "metadata": {},
   "source": [
    "## Build the Neural Network\n",
    "You'll build the components necessary to build a RNN by implementing the following functions below:\n",
    "- get_inputs\n",
    "- get_init_cell\n",
    "- get_embed\n",
    "- build_rnn\n",
    "- build_nn\n",
    "- get_batches\n",
    "\n",
    "### Check the Version of TensorFlow and Access to GPU\n",
    "\n",
    "### 建立神经网络\n",
    "您将通过实现以下功能构建构建RNN所需的组件：\n",
    "- get_inputs\n",
    "- get_init_cell\n",
    "- get_embed\n",
    "- build_rnn\n",
    "- build_nn\n",
    "- get_batches\n",
    "\n",
    "### 检查TensorFlow版本和访问GPU"
   ]
  },
  {
   "cell_type": "code",
   "execution_count": 9,
   "metadata": {},
   "outputs": [
    {
     "name": "stdout",
     "output_type": "stream",
     "text": [
      "TensorFlow Version: 1.0.0\n"
     ]
    },
    {
     "name": "stderr",
     "output_type": "stream",
     "text": [
      "/Users/kangfei/anaconda/lib/python3.6/site-packages/ipykernel_launcher.py:14: UserWarning: No GPU found. Please use a GPU to train your neural network.\n",
      "  \n"
     ]
    }
   ],
   "source": [
    "\"\"\"\n",
    "DON'T MODIFY ANYTHING IN THIS CELL\n",
    "\"\"\"\n",
    "from distutils.version import LooseVersion\n",
    "import warnings\n",
    "import tensorflow as tf\n",
    "\n",
    "# Check TensorFlow Version\n",
    "assert LooseVersion(tf.__version__) >= LooseVersion('1.0'), 'Please use TensorFlow version 1.0 or newer'\n",
    "print('TensorFlow Version: {}'.format(tf.__version__))\n",
    "\n",
    "# Check for a GPU\n",
    "if not tf.test.gpu_device_name():\n",
    "    warnings.warn('No GPU found. Please use a GPU to train your neural network.')\n",
    "else:\n",
    "    print('Default GPU Device: {}'.format(tf.test.gpu_device_name()))"
   ]
  },
  {
   "cell_type": "markdown",
   "metadata": {},
   "source": [
    "### Input\n",
    "Implement the `get_inputs()` function to create TF Placeholders for the Neural Network.  It should create the following placeholders:\n",
    "- Input text placeholder named \"input\" using the [TF Placeholder](https://www.tensorflow.org/api_docs/python/tf/placeholder) `name` parameter.\n",
    "- Targets placeholder\n",
    "- Learning Rate placeholder\n",
    "\n",
    "Return the placeholders in the following tuple `(Input, Targets, LearningRate)`\n",
    "\n",
    "### 输入\n",
    "实现`get_inputs（）`函数来创建神经网络的TF占位符。 应该创建以下占位符：\n",
    "- 使用[TF占位符]（https://www.tensorflow.org/api_docs/python/tf/placeholder ） `name`参数输入名为“输入”的文本占位符。\n",
    "- 目标占位符\n",
    "- 学习率占位符\n",
    "\n",
    "在以下元组“（Input，Targets，LearningRate）”中返回占位符"
   ]
  },
  {
   "cell_type": "code",
   "execution_count": 10,
   "metadata": {},
   "outputs": [
    {
     "name": "stdout",
     "output_type": "stream",
     "text": [
      "Tests Passed\n"
     ]
    }
   ],
   "source": [
    "def get_inputs():\n",
    "    \"\"\"\n",
    "    Create TF Placeholders for input, targets, and learning rate.\n",
    "    :return: Tuple (input, targets, learning rate)\n",
    "    \"\"\"\n",
    "    inputs = tf.placeholder(tf.int32,[None,None],name='input')\n",
    "    targets = tf.placeholder(tf.int32,[None,None],name='target')\n",
    "    learning_rate = tf.placeholder(tf.float32,name='learning_rate')\n",
    "    return inputs, targets, learning_rate\n",
    "\n",
    "\n",
    "\"\"\"\n",
    "DON'T MODIFY ANYTHING IN THIS CELL THAT IS BELOW THIS LINE\n",
    "\"\"\"\n",
    "tests.test_get_inputs(get_inputs)"
   ]
  },
  {
   "cell_type": "markdown",
   "metadata": {},
   "source": [
    "### Build RNN Cell and Initialize\n",
    "Stack one or more [`BasicLSTMCells`](https://www.tensorflow.org/api_docs/python/tf/contrib/rnn/BasicLSTMCell) in a [`MultiRNNCell`](https://www.tensorflow.org/api_docs/python/tf/contrib/rnn/MultiRNNCell).\n",
    "- The Rnn size should be set using `rnn_size`\n",
    "- Initalize Cell State using the MultiRNNCell's [`zero_state()`](https://www.tensorflow.org/api_docs/python/tf/contrib/rnn/MultiRNNCell#zero_state) function\n",
    "    - Apply the name \"initial_state\" to the initial state using [`tf.identity()`](https://www.tensorflow.org/api_docs/python/tf/identity)\n",
    "\n",
    "Return the cell and initial state in the following tuple `(Cell, InitialState)`\n",
    "\n",
    "### 构建RNN单元并初始化\n",
    "在[`MultiRNNCell`]（https://www.tensorflow.org/ ）中堆叠一个或多个[`BasicLSTMCells`]（https://www.tensorflow.org/api_docs/python/tf/contrib/rnn/BasicLSTMCell ）(https://www.tensorflow.org/api_docs/python/tf/contrib/rnn/BasicLSTMCell)\n",
    "- Rnn大小应该使用`rnn_size'设置\n",
    "- 使用MultiRNNCell [`zero_state（）]]（https://www.tensorflow.org/api_docs/python/tf/contrib/rnn/MultiRNNCell#zero_state）函数启动单元格状态\n",
    "     - 使用[`tf.identity（）`]（https://www.tensorflow.org/api_docs/python/tf/identity）将名称“initial_state”应用于初始状态\n",
    "\n",
    "在下面的元组“（Cell，InitialState”）中返回单元格和初始状态"
   ]
  },
  {
   "cell_type": "code",
   "execution_count": 11,
   "metadata": {},
   "outputs": [
    {
     "name": "stdout",
     "output_type": "stream",
     "text": [
      "Tests Passed\n"
     ]
    }
   ],
   "source": [
    "def get_init_cell(batch_size, rnn_size):\n",
    "    \"\"\"\n",
    "    Create an RNN Cell and initialize it.\n",
    "    :param batch_size: Size of batches\n",
    "    :param rnn_size: Size of RNNs\n",
    "    :return: Tuple (cell, initialize state)\n",
    "    \"\"\"\n",
    "    lstm = tf.contrib.rnn.BasicLSTMCell(rnn_size)\n",
    "    \n",
    "    cell = tf.contrib.rnn.MultiRNNCell([lstm])\n",
    "    \n",
    "    initial_state = cell.zero_state(batch_size,tf.float32)\n",
    "    \n",
    "    initial_state = tf.identity(initial_state,name='initial_state')\n",
    "    return cell, initial_state\n",
    "\n",
    "\n",
    "\"\"\"\n",
    "DON'T MODIFY ANYTHING IN THIS CELL THAT IS BELOW THIS LINE\n",
    "\"\"\"\n",
    "tests.test_get_init_cell(get_init_cell)"
   ]
  },
  {
   "cell_type": "markdown",
   "metadata": {},
   "source": [
    "### Word Embedding\n",
    "Apply embedding to `input_data` using TensorFlow.  Return the embedded sequence.\n",
    "\n",
    "### 字嵌入\n",
    "使用TensorFlow将嵌入应用于`input_data`。 返回嵌入序列。"
   ]
  },
  {
   "cell_type": "code",
   "execution_count": 12,
   "metadata": {},
   "outputs": [
    {
     "name": "stdout",
     "output_type": "stream",
     "text": [
      "Tests Passed\n"
     ]
    }
   ],
   "source": [
    "def get_embed(input_data, vocab_size, embed_dim):\n",
    "    \"\"\"\n",
    "    Create embedding for <input_data>.\n",
    "    :param input_data: TF placeholder for text input.\n",
    "    :param vocab_size: Number of words in vocabulary.\n",
    "    :param embed_dim: Number of embedding dimensions\n",
    "    :return: Embedded input.\n",
    "    \"\"\"\n",
    "    embedding = tf.Variable(tf.random_uniform((vocab_size,embed_dim),-1,1))\n",
    "    embed = tf.nn.embedding_lookup(embedding,input_data)\n",
    "    return embed\n",
    "\n",
    "\n",
    "\"\"\"\n",
    "DON'T MODIFY ANYTHING IN THIS CELL THAT IS BELOW THIS LINE\n",
    "\"\"\"\n",
    "tests.test_get_embed(get_embed)"
   ]
  },
  {
   "cell_type": "markdown",
   "metadata": {},
   "source": [
    "### Build RNN\n",
    "You created a RNN Cell in the `get_init_cell()` function.  Time to use the cell to create a RNN.\n",
    "- Build the RNN using the [`tf.nn.dynamic_rnn()`](https://www.tensorflow.org/api_docs/python/tf/nn/dynamic_rnn)\n",
    " - Apply the name \"final_state\" to the final state using [`tf.identity()`](https://www.tensorflow.org/api_docs/python/tf/identity)\n",
    "\n",
    "Return the outputs and final_state state in the following tuple `(Outputs, FinalState)` \n",
    "### 建立RNN\n",
    "您在“get_init_cell（）”函数中创建了一个RNN单元格。 使用单元格创建RNN的时间。\n",
    "- 使用[`tf.nn.dynamic_rnn（）`]（https://www.tensorflow.org/api_docs/python/tf/nn/dynamic_rnn ）构建RNN\n",
    "  - 使用[`tf.identity（）`]（https://www.tensorflow.org/api_docs/python/tf/identity ）将名称“final_state”应用于最终状态\n",
    "\n",
    "在下面的元组“（Outputs，FinalState）”中返回output和final_state状态"
   ]
  },
  {
   "cell_type": "code",
   "execution_count": 13,
   "metadata": {},
   "outputs": [
    {
     "name": "stdout",
     "output_type": "stream",
     "text": [
      "Tests Passed\n"
     ]
    }
   ],
   "source": [
    "def build_rnn(cell, inputs):\n",
    "    \"\"\"\n",
    "    Create a RNN using a RNN Cell\n",
    "    :param cell: RNN Cell\n",
    "    :param inputs: Input text data\n",
    "    :return: Tuple (Outputs, Final State)\n",
    "    \"\"\"\n",
    "    outputs, final_state = tf.nn.dynamic_rnn(cell, inputs, dtype=tf.float32)    \n",
    "    final_state = tf.identity(final_state, name=\"final_state\")    \n",
    "    return (outputs, final_state)\n",
    "\n",
    "\n",
    "\"\"\"\n",
    "DON'T MODIFY ANYTHING IN THIS CELL THAT IS BELOW THIS LINE\n",
    "\"\"\"\n",
    "tests.test_build_rnn(build_rnn)"
   ]
  },
  {
   "cell_type": "markdown",
   "metadata": {},
   "source": [
    "### Build the Neural Network\n",
    "Apply the functions you implemented above to:\n",
    "- Apply embedding to `input_data` using your `get_embed(input_data, vocab_size, embed_dim)` function.\n",
    "- Build RNN using `cell` and your `build_rnn(cell, inputs)` function.\n",
    "- Apply a fully connected layer with a linear activation and `vocab_size` as the number of outputs.\n",
    "\n",
    "Return the logits and final state in the following tuple (Logits, FinalState) \n",
    "\n",
    "### 建立神经网络\n",
    "将上述实现的功能应用于：\n",
    "- 使用`get_embed（input_data，vocab_size，embed_dim）'函数将嵌入应用于`input_data`。\n",
    "- 使用`cell`和你的`build_rnn（cell，inputs）`函数构建RNN。\n",
    "- 使用线性激活和“vocab_size”作为输出数量应用完全连接的层。\n",
    "\n",
    "在以下元组中返回逻辑和最终状态（Logits，FinalState）"
   ]
  },
  {
   "cell_type": "code",
   "execution_count": 14,
   "metadata": {},
   "outputs": [
    {
     "name": "stdout",
     "output_type": "stream",
     "text": [
      "Tests Passed\n"
     ]
    }
   ],
   "source": [
    "def build_nn(cell, rnn_size, input_data, vocab_size, embed_dim):\n",
    "    \"\"\"\n",
    "    Build part of the neural network\n",
    "    :param cell: RNN cell\n",
    "    :param rnn_size: Size of rnns\n",
    "    :param input_data: Input data\n",
    "    :param vocab_size: Vocabulary size\n",
    "    :param embed_dim: Number of embedding dimensions\n",
    "    :return: Tuple (Logits, FinalState)\n",
    "    \"\"\"\n",
    "    embed = get_embed(input_data,vocab_size,rnn_size)\n",
    "    output,final_state = build_rnn(cell,embed)\n",
    "    logits = tf.contrib.layers.fully_connected(output,vocab_size, activation_fn=None,\n",
    "               weights_initializer = tf.truncated_normal_initializer(stddev=0.1),\n",
    "               biases_initializer=tf.zeros_initializer())\n",
    "    \n",
    "    return logits, final_state\n",
    "\n",
    "\n",
    "\"\"\"\n",
    "DON'T MODIFY ANYTHING IN THIS CELL THAT IS BELOW THIS LINE\n",
    "\"\"\"\n",
    "tests.test_build_nn(build_nn)"
   ]
  },
  {
   "cell_type": "markdown",
   "metadata": {},
   "source": [
    "### Batches\n",
    "Implement `get_batches` to create batches of input and targets using `int_text`.  The batches should be a Numpy array with the shape `(number of batches, 2, batch size, sequence length)`. Each batch contains two elements:\n",
    "- The first element is a single batch of **input** with the shape `[batch size, sequence length]`\n",
    "- The second element is a single batch of **targets** with the shape `[batch size, sequence length]`\n",
    "\n",
    "If you can't fill the last batch with enough data, drop the last batch.\n",
    "\n",
    "For exmple, `get_batches([1, 2, 3, 4, 5, 6, 7, 8, 9, 10, 11, 12, 13, 14, 15], 2, 3)` would return a Numpy array of the following:\n",
    "```\n",
    "[\n",
    "  # First Batch\n",
    "  [\n",
    "    # Batch of Input\n",
    "    [[ 1  2  3], [ 7  8  9]],\n",
    "    # Batch of targets\n",
    "    [[ 2  3  4], [ 8  9 10]]\n",
    "  ],\n",
    " \n",
    "  # Second Batch\n",
    "  [\n",
    "    # Batch of Input\n",
    "    [[ 4  5  6], [10 11 12]],\n",
    "    # Batch of targets\n",
    "    [[ 5  6  7], [11 12 13]]\n",
    "  ]\n",
    "]\n",
    "```\n",
    "### 批次\n",
    "实现 批次应该是一个Numpy数组，形状为“（批次数，批量大小，序列长度）”。 每批包含两个元素：\n",
    "- 第一个元素是一批**输入**，形状为[批量大小，序列长度]\n",
    "- 第二个元素是一批**目标**，形状为[批量大小，序列长度]\n",
    "\n",
    "如果您无法使用足够的数据填写最后一个批次，请删除最后一批。\n",
    "\n",
    "例如，`get_batches（[1,2,3,4,5,6,7,8,9,10,11,12,13,14,15]，2,3）`将返回一个Numpy数组 以下：\n",
    "```\n",
    "[\n",
    "  # First Batch\n",
    "  [\n",
    "    # Batch of Input\n",
    "    [[ 1  2  3], [ 7  8  9]],\n",
    "    # Batch of targets\n",
    "    [[ 2  3  4], [ 8  9 10]]\n",
    "  ],\n",
    " \n",
    "  # Second Batch\n",
    "  [\n",
    "    # Batch of Input\n",
    "    [[ 4  5  6], [10 11 12]],\n",
    "    # Batch of targets\n",
    "    [[ 5  6  7], [11 12 13]]\n",
    "  ]\n",
    "]\n",
    "```"
   ]
  },
  {
   "cell_type": "code",
   "execution_count": 16,
   "metadata": {},
   "outputs": [
    {
     "name": "stdout",
     "output_type": "stream",
     "text": [
      "Tests Passed\n"
     ]
    }
   ],
   "source": [
    "def get_batches(int_text, batch_size, seq_length):\n",
    "    \"\"\"\n",
    "    Return batches of input and target\n",
    "    :param int_text: Text with the words replaced by their ids\n",
    "    :param batch_size: The size of batch\n",
    "    :param seq_length: The length of sequence\n",
    "    :return: Batches as a Numpy array\n",
    "    \"\"\"\n",
    "    n_batches = len(int_text)//(batch_size*seq_length)\n",
    "    \n",
    "    batches = []\n",
    "    index = 0\n",
    "    for batch_index in range(n_batches):  \n",
    "        one_seq = []\n",
    "        one_tar =[]\n",
    "        for n in range(batch_size):\n",
    "            index = batch_index * seq_length + n * n_batches * seq_length            \n",
    "            seq = int_text[index:index+seq_length]\n",
    "            tar = int_text[index+1:index+seq_length+1]\n",
    "            one_seq.append(seq)\n",
    "            one_tar.append(tar)\n",
    "            \n",
    "        one_batch = [one_seq, one_tar]\n",
    "        batches.append(one_batch)\n",
    "    batches = np.array(batches)\n",
    "    return batches\n",
    "\n",
    "\n",
    "\"\"\"\n",
    "DON'T MODIFY ANYTHING IN THIS CELL THAT IS BELOW THIS LINE\n",
    "\"\"\"\n",
    "tests.test_get_batches(get_batches)"
   ]
  },
  {
   "cell_type": "markdown",
   "metadata": {},
   "source": [
    "## Neural Network Training\n",
    "### Hyperparameters\n",
    "Tune the following parameters:\n",
    "\n",
    "- Set `num_epochs` to the number of epochs.\n",
    "- Set `batch_size` to the batch size.\n",
    "- Set `rnn_size` to the size of the RNNs.\n",
    "- Set `embed_dim` to the size of the embedding.\n",
    "- Set `seq_length` to the length of sequence.\n",
    "- Set `learning_rate` to the learning rate.\n",
    "- Set `show_every_n_batches` to the number of batches the neural network should print progress.\n",
    "\n",
    "## 神经网络训练\n",
    "### 超参数\n",
    "调整以下参数：\n",
    "\n",
    "- 将'num_epochs'设置为历元数。\n",
    "- 将batch_size设置为批量大小。\n",
    "- 将“rnn_size”设置为RNN的大小。\n",
    "- 将“embed_dim”设置为嵌入的大小。\n",
    "- 将“seq_length”设置为序列长度。\n",
    "- 将“learning_rate”设置为学习率。\n",
    "- 将`show_every_n_batches`设置为神经网络应该打印进度的批次数。"
   ]
  },
  {
   "cell_type": "code",
   "execution_count": 17,
   "metadata": {
    "collapsed": true
   },
   "outputs": [],
   "source": [
    "# Number of Epochs\n",
    "num_epochs = 100\n",
    "# Batch Size\n",
    "batch_size = 128\n",
    "# RNN Size\n",
    "rnn_size = 128\n",
    "# Embedding Dimension Size\n",
    "embed_dim = None\n",
    "# Sequence Length\n",
    "seq_length = 30\n",
    "# Learning Rate\n",
    "learning_rate = 0.01\n",
    "# Show stats for every n number of batches\n",
    "show_every_n_batches = 10\n",
    "\n",
    "\"\"\"\n",
    "DON'T MODIFY ANYTHING IN THIS CELL THAT IS BELOW THIS LINE\n",
    "\"\"\"\n",
    "save_dir = './save'"
   ]
  },
  {
   "cell_type": "markdown",
   "metadata": {},
   "source": [
    "### Build the Graph\n",
    "Build the graph using the neural network you implemented.\n",
    "\n",
    "### 构建图\n",
    "使用您实现的神经网络构建图。"
   ]
  },
  {
   "cell_type": "code",
   "execution_count": 18,
   "metadata": {
    "collapsed": true
   },
   "outputs": [],
   "source": [
    "\"\"\"\n",
    "DON'T MODIFY ANYTHING IN THIS CELL\n",
    "\"\"\"\n",
    "from tensorflow.contrib import seq2seq\n",
    "\n",
    "train_graph = tf.Graph()\n",
    "with train_graph.as_default():\n",
    "    vocab_size = len(int_to_vocab)\n",
    "    input_text, targets, lr = get_inputs()\n",
    "    input_data_shape = tf.shape(input_text)\n",
    "    cell, initial_state = get_init_cell(input_data_shape[0], rnn_size)\n",
    "    logits, final_state = build_nn(cell, rnn_size, input_text, vocab_size, embed_dim)\n",
    "\n",
    "    # Probabilities for generating words\n",
    "    probs = tf.nn.softmax(logits, name='probs')\n",
    "\n",
    "    # Loss function\n",
    "    cost = seq2seq.sequence_loss(\n",
    "        logits,\n",
    "        targets,\n",
    "        tf.ones([input_data_shape[0], input_data_shape[1]]))\n",
    "\n",
    "    # Optimizer\n",
    "    optimizer = tf.train.AdamOptimizer(lr)\n",
    "\n",
    "    # Gradient Clipping\n",
    "    gradients = optimizer.compute_gradients(cost)\n",
    "    capped_gradients = [(tf.clip_by_value(grad, -1., 1.), var) for grad, var in gradients if grad is not None]\n",
    "    train_op = optimizer.apply_gradients(capped_gradients)"
   ]
  },
  {
   "cell_type": "markdown",
   "metadata": {},
   "source": [
    "## Train\n",
    "Train the neural network on the preprocessed data.  If you have a hard time getting a good loss, check the [forms](https://discussions.udacity.com/) to see if anyone is having the same problem.\n",
    "## 训练\n",
    "在预处理数据上训练神经网络。 如果您很难受损，请查看[forms]（https://discussions.udacity.com/ ）以查看是否有任何人遇到同样的问题。"
   ]
  },
  {
   "cell_type": "code",
   "execution_count": 19,
   "metadata": {},
   "outputs": [
    {
     "name": "stdout",
     "output_type": "stream",
     "text": [
      "Epoch   0 Batch    0/17   train_loss = 8.837\n",
      "Epoch   0 Batch   10/17   train_loss = 6.208\n",
      "Epoch   1 Batch    3/17   train_loss = 5.580\n",
      "Epoch   1 Batch   13/17   train_loss = 5.294\n",
      "Epoch   2 Batch    6/17   train_loss = 4.952\n",
      "Epoch   2 Batch   16/17   train_loss = 4.713\n",
      "Epoch   3 Batch    9/17   train_loss = 4.528\n",
      "Epoch   4 Batch    2/17   train_loss = 4.309\n",
      "Epoch   4 Batch   12/17   train_loss = 4.179\n",
      "Epoch   5 Batch    5/17   train_loss = 4.054\n",
      "Epoch   5 Batch   15/17   train_loss = 3.890\n",
      "Epoch   6 Batch    8/17   train_loss = 3.904\n",
      "Epoch   7 Batch    1/17   train_loss = 3.722\n",
      "Epoch   7 Batch   11/17   train_loss = 3.700\n",
      "Epoch   8 Batch    4/17   train_loss = 3.582\n",
      "Epoch   8 Batch   14/17   train_loss = 3.448\n",
      "Epoch   9 Batch    7/17   train_loss = 3.455\n",
      "Epoch  10 Batch    0/17   train_loss = 3.265\n",
      "Epoch  10 Batch   10/17   train_loss = 3.288\n",
      "Epoch  11 Batch    3/17   train_loss = 3.122\n",
      "Epoch  11 Batch   13/17   train_loss = 3.097\n",
      "Epoch  12 Batch    6/17   train_loss = 2.993\n",
      "Epoch  12 Batch   16/17   train_loss = 2.954\n",
      "Epoch  13 Batch    9/17   train_loss = 2.870\n",
      "Epoch  14 Batch    2/17   train_loss = 2.819\n",
      "Epoch  14 Batch   12/17   train_loss = 2.797\n",
      "Epoch  15 Batch    5/17   train_loss = 2.698\n",
      "Epoch  15 Batch   15/17   train_loss = 2.665\n",
      "Epoch  16 Batch    8/17   train_loss = 2.607\n",
      "Epoch  17 Batch    1/17   train_loss = 2.580\n",
      "Epoch  17 Batch   11/17   train_loss = 2.499\n",
      "Epoch  18 Batch    4/17   train_loss = 2.473\n",
      "Epoch  18 Batch   14/17   train_loss = 2.394\n",
      "Epoch  19 Batch    7/17   train_loss = 2.404\n",
      "Epoch  20 Batch    0/17   train_loss = 2.356\n",
      "Epoch  20 Batch   10/17   train_loss = 2.326\n",
      "Epoch  21 Batch    3/17   train_loss = 2.302\n",
      "Epoch  21 Batch   13/17   train_loss = 2.270\n",
      "Epoch  22 Batch    6/17   train_loss = 2.231\n",
      "Epoch  22 Batch   16/17   train_loss = 2.241\n",
      "Epoch  23 Batch    9/17   train_loss = 2.219\n",
      "Epoch  24 Batch    2/17   train_loss = 2.155\n",
      "Epoch  24 Batch   12/17   train_loss = 2.116\n",
      "Epoch  25 Batch    5/17   train_loss = 2.066\n",
      "Epoch  25 Batch   15/17   train_loss = 2.025\n",
      "Epoch  26 Batch    8/17   train_loss = 1.964\n",
      "Epoch  27 Batch    1/17   train_loss = 1.961\n",
      "Epoch  27 Batch   11/17   train_loss = 1.928\n",
      "Epoch  28 Batch    4/17   train_loss = 1.896\n",
      "Epoch  28 Batch   14/17   train_loss = 1.829\n",
      "Epoch  29 Batch    7/17   train_loss = 1.831\n",
      "Epoch  30 Batch    0/17   train_loss = 1.799\n",
      "Epoch  30 Batch   10/17   train_loss = 1.759\n",
      "Epoch  31 Batch    3/17   train_loss = 1.742\n",
      "Epoch  31 Batch   13/17   train_loss = 1.698\n",
      "Epoch  32 Batch    6/17   train_loss = 1.673\n",
      "Epoch  32 Batch   16/17   train_loss = 1.670\n",
      "Epoch  33 Batch    9/17   train_loss = 1.660\n",
      "Epoch  34 Batch    2/17   train_loss = 1.637\n",
      "Epoch  34 Batch   12/17   train_loss = 1.643\n",
      "Epoch  35 Batch    5/17   train_loss = 1.566\n",
      "Epoch  35 Batch   15/17   train_loss = 1.578\n",
      "Epoch  36 Batch    8/17   train_loss = 1.513\n",
      "Epoch  37 Batch    1/17   train_loss = 1.517\n",
      "Epoch  37 Batch   11/17   train_loss = 1.459\n",
      "Epoch  38 Batch    4/17   train_loss = 1.457\n",
      "Epoch  38 Batch   14/17   train_loss = 1.414\n",
      "Epoch  39 Batch    7/17   train_loss = 1.408\n",
      "Epoch  40 Batch    0/17   train_loss = 1.415\n",
      "Epoch  40 Batch   10/17   train_loss = 1.361\n",
      "Epoch  41 Batch    3/17   train_loss = 1.383\n",
      "Epoch  41 Batch   13/17   train_loss = 1.349\n",
      "Epoch  42 Batch    6/17   train_loss = 1.344\n",
      "Epoch  42 Batch   16/17   train_loss = 1.331\n",
      "Epoch  43 Batch    9/17   train_loss = 1.348\n",
      "Epoch  44 Batch    2/17   train_loss = 1.324\n",
      "Epoch  44 Batch   12/17   train_loss = 1.334\n",
      "Epoch  45 Batch    5/17   train_loss = 1.272\n",
      "Epoch  45 Batch   15/17   train_loss = 1.327\n",
      "Epoch  46 Batch    8/17   train_loss = 1.276\n",
      "Epoch  47 Batch    1/17   train_loss = 1.292\n",
      "Epoch  47 Batch   11/17   train_loss = 1.208\n",
      "Epoch  48 Batch    4/17   train_loss = 1.217\n",
      "Epoch  48 Batch   14/17   train_loss = 1.152\n",
      "Epoch  49 Batch    7/17   train_loss = 1.179\n",
      "Epoch  50 Batch    0/17   train_loss = 1.177\n",
      "Epoch  50 Batch   10/17   train_loss = 1.124\n",
      "Epoch  51 Batch    3/17   train_loss = 1.113\n",
      "Epoch  51 Batch   13/17   train_loss = 1.102\n",
      "Epoch  52 Batch    6/17   train_loss = 1.094\n",
      "Epoch  52 Batch   16/17   train_loss = 1.096\n",
      "Epoch  53 Batch    9/17   train_loss = 1.108\n",
      "Epoch  54 Batch    2/17   train_loss = 1.100\n",
      "Epoch  54 Batch   12/17   train_loss = 1.108\n",
      "Epoch  55 Batch    5/17   train_loss = 1.070\n",
      "Epoch  55 Batch   15/17   train_loss = 1.094\n",
      "Epoch  56 Batch    8/17   train_loss = 1.025\n",
      "Epoch  57 Batch    1/17   train_loss = 1.018\n",
      "Epoch  57 Batch   11/17   train_loss = 0.971\n",
      "Epoch  58 Batch    4/17   train_loss = 0.988\n",
      "Epoch  58 Batch   14/17   train_loss = 0.947\n",
      "Epoch  59 Batch    7/17   train_loss = 0.965\n",
      "Epoch  60 Batch    0/17   train_loss = 0.969\n",
      "Epoch  60 Batch   10/17   train_loss = 0.923\n",
      "Epoch  61 Batch    3/17   train_loss = 0.918\n",
      "Epoch  61 Batch   13/17   train_loss = 0.915\n",
      "Epoch  62 Batch    6/17   train_loss = 0.910\n",
      "Epoch  62 Batch   16/17   train_loss = 0.889\n",
      "Epoch  63 Batch    9/17   train_loss = 0.895\n",
      "Epoch  64 Batch    2/17   train_loss = 0.862\n",
      "Epoch  64 Batch   12/17   train_loss = 0.866\n",
      "Epoch  65 Batch    5/17   train_loss = 0.828\n",
      "Epoch  65 Batch   15/17   train_loss = 0.839\n",
      "Epoch  66 Batch    8/17   train_loss = 0.790\n",
      "Epoch  67 Batch    1/17   train_loss = 0.771\n",
      "Epoch  67 Batch   11/17   train_loss = 0.733\n",
      "Epoch  68 Batch    4/17   train_loss = 0.737\n",
      "Epoch  68 Batch   14/17   train_loss = 0.711\n",
      "Epoch  69 Batch    7/17   train_loss = 0.743\n",
      "Epoch  70 Batch    0/17   train_loss = 0.731\n",
      "Epoch  70 Batch   10/17   train_loss = 0.716\n",
      "Epoch  71 Batch    3/17   train_loss = 0.724\n",
      "Epoch  71 Batch   13/17   train_loss = 0.714\n",
      "Epoch  72 Batch    6/17   train_loss = 0.742\n",
      "Epoch  72 Batch   16/17   train_loss = 0.728\n",
      "Epoch  73 Batch    9/17   train_loss = 0.758\n",
      "Epoch  74 Batch    2/17   train_loss = 0.741\n",
      "Epoch  74 Batch   12/17   train_loss = 0.758\n",
      "Epoch  75 Batch    5/17   train_loss = 0.716\n",
      "Epoch  75 Batch   15/17   train_loss = 0.733\n",
      "Epoch  76 Batch    8/17   train_loss = 0.695\n",
      "Epoch  77 Batch    1/17   train_loss = 0.690\n",
      "Epoch  77 Batch   11/17   train_loss = 0.635\n",
      "Epoch  78 Batch    4/17   train_loss = 0.672\n",
      "Epoch  78 Batch   14/17   train_loss = 0.633\n",
      "Epoch  79 Batch    7/17   train_loss = 0.659\n",
      "Epoch  80 Batch    0/17   train_loss = 0.646\n",
      "Epoch  80 Batch   10/17   train_loss = 0.619\n",
      "Epoch  81 Batch    3/17   train_loss = 0.616\n",
      "Epoch  81 Batch   13/17   train_loss = 0.606\n",
      "Epoch  82 Batch    6/17   train_loss = 0.631\n",
      "Epoch  82 Batch   16/17   train_loss = 0.602\n",
      "Epoch  83 Batch    9/17   train_loss = 0.634\n",
      "Epoch  84 Batch    2/17   train_loss = 0.604\n",
      "Epoch  84 Batch   12/17   train_loss = 0.612\n",
      "Epoch  85 Batch    5/17   train_loss = 0.569\n",
      "Epoch  85 Batch   15/17   train_loss = 0.577\n",
      "Epoch  86 Batch    8/17   train_loss = 0.569\n",
      "Epoch  87 Batch    1/17   train_loss = 0.563\n",
      "Epoch  87 Batch   11/17   train_loss = 0.527\n",
      "Epoch  88 Batch    4/17   train_loss = 0.537\n",
      "Epoch  88 Batch   14/17   train_loss = 0.543\n",
      "Epoch  89 Batch    7/17   train_loss = 0.559\n",
      "Epoch  90 Batch    0/17   train_loss = 0.540\n",
      "Epoch  90 Batch   10/17   train_loss = 0.541\n",
      "Epoch  91 Batch    3/17   train_loss = 0.541\n",
      "Epoch  91 Batch   13/17   train_loss = 0.527\n",
      "Epoch  92 Batch    6/17   train_loss = 0.555\n",
      "Epoch  92 Batch   16/17   train_loss = 0.512\n",
      "Epoch  93 Batch    9/17   train_loss = 0.546\n",
      "Epoch  94 Batch    2/17   train_loss = 0.534\n",
      "Epoch  94 Batch   12/17   train_loss = 0.544\n",
      "Epoch  95 Batch    5/17   train_loss = 0.515\n",
      "Epoch  95 Batch   15/17   train_loss = 0.551\n",
      "Epoch  96 Batch    8/17   train_loss = 0.528\n",
      "Epoch  97 Batch    1/17   train_loss = 0.517\n",
      "Epoch  97 Batch   11/17   train_loss = 0.487\n",
      "Epoch  98 Batch    4/17   train_loss = 0.482\n",
      "Epoch  98 Batch   14/17   train_loss = 0.494\n",
      "Epoch  99 Batch    7/17   train_loss = 0.515\n",
      "Model Trained and Saved\n"
     ]
    }
   ],
   "source": [
    "\"\"\"\n",
    "DON'T MODIFY ANYTHING IN THIS CELL\n",
    "\"\"\"\n",
    "batches = get_batches(int_text, batch_size, seq_length)\n",
    "\n",
    "with tf.Session(graph=train_graph) as sess:\n",
    "    sess.run(tf.global_variables_initializer())\n",
    "\n",
    "    for epoch_i in range(num_epochs):\n",
    "        state = sess.run(initial_state, {input_text: batches[0][0]})\n",
    "\n",
    "        for batch_i, (x, y) in enumerate(batches):\n",
    "            feed = {\n",
    "                input_text: x,\n",
    "                targets: y,\n",
    "                initial_state: state,\n",
    "                lr: learning_rate}\n",
    "            train_loss, state, _ = sess.run([cost, final_state, train_op], feed)\n",
    "\n",
    "            # Show every <show_every_n_batches> batches\n",
    "            if (epoch_i * len(batches) + batch_i) % show_every_n_batches == 0:\n",
    "                print('Epoch {:>3} Batch {:>4}/{}   train_loss = {:.3f}'.format(\n",
    "                    epoch_i,\n",
    "                    batch_i,\n",
    "                    len(batches),\n",
    "                    train_loss))\n",
    "\n",
    "    # 保存模型\n",
    "    saver = tf.train.Saver()\n",
    "    saver.save(sess, save_dir)\n",
    "    print('Model Trained and Saved')"
   ]
  },
  {
   "cell_type": "markdown",
   "metadata": {},
   "source": [
    "## Save Parameters\n",
    "Save `seq_length` and `save_dir` for generating a new TV script.\n",
    "## 保存参数\n",
    "保存`seq_length`和`save_dir`用于生成新的电视剧脚本。"
   ]
  },
  {
   "cell_type": "code",
   "execution_count": 20,
   "metadata": {
    "collapsed": true
   },
   "outputs": [],
   "source": [
    "\"\"\"\n",
    "DON'T MODIFY ANYTHING IN THIS CELL\n",
    "\"\"\"\n",
    "# Save parameters for checkpoint\n",
    "helper.save_params((seq_length, save_dir))"
   ]
  },
  {
   "cell_type": "markdown",
   "metadata": {},
   "source": [
    "# Checkpoint\n",
    "# 检查点"
   ]
  },
  {
   "cell_type": "code",
   "execution_count": 21,
   "metadata": {
    "collapsed": true
   },
   "outputs": [],
   "source": [
    "\"\"\"\n",
    "DON'T MODIFY ANYTHING IN THIS CELL\n",
    "\"\"\"\n",
    "import tensorflow as tf\n",
    "import numpy as np\n",
    "import helper\n",
    "import problem_unittests as tests\n",
    "\n",
    "_, vocab_to_int, int_to_vocab, token_dict = helper.load_preprocess()\n",
    "seq_length, load_dir = helper.load_params()"
   ]
  },
  {
   "cell_type": "markdown",
   "metadata": {},
   "source": [
    "## Implement Generate Functions\n",
    "### Get Tensors\n",
    "Get tensors from `loaded_graph` using the function [`get_tensor_by_name()`](https://www.tensorflow.org/api_docs/python/tf/Graph#get_tensor_by_name).  Get the tensors using the following names:\n",
    "- \"input:0\"\n",
    "- \"initial_state:0\"\n",
    "- \"final_state:0\"\n",
    "- \"probs:0\"\n",
    "\n",
    "Return the tensors in the following tuple `(InputTensor, InitialStateTensor, FinalStateTensor, ProbsTensor)` \n",
    "\n",
    "## 实现生成函数\n",
    "### 获取Tensors\n",
    "使用函数[`get_tensor_by_name（）`]（https://www.tensorflow.org/api_docs/python/tf/Graph#get_tensor_by_name ）从`loaded_graph'获取张量。 使用以下名称获取张量：\n",
    "- “输入：0”\n",
    "- “initial_state：0”\n",
    "- “final_state：0”\n",
    "- “probs：0”\n",
    "\n",
    "返回下面的元组中的张量`（InputTensor，InitialStateTensor，FinalStateTensor，ProbsTensor）`"
   ]
  },
  {
   "cell_type": "code",
   "execution_count": 22,
   "metadata": {},
   "outputs": [
    {
     "name": "stdout",
     "output_type": "stream",
     "text": [
      "Tests Passed\n"
     ]
    }
   ],
   "source": [
    "def get_tensors(loaded_graph):\n",
    "    \"\"\"\n",
    "    Get input, initial state, final state, and probabilities tensor from <loaded_graph>\n",
    "    :param loaded_graph: TensorFlow graph loaded from file\n",
    "    :return: Tuple (InputTensor, InitialStateTensor, FinalStateTensor, ProbsTensor)\n",
    "    \"\"\"\n",
    "\n",
    "    InputTensor = loaded_graph.get_tensor_by_name('input:0')\n",
    "    InitialStateTensor = loaded_graph.get_tensor_by_name('initial_state:0')\n",
    "    FinalStateTensor = loaded_graph.get_tensor_by_name('final_state:0')\n",
    "    ProbsTensor = loaded_graph.get_tensor_by_name('probs:0')\n",
    "    return (InputTensor, InitialStateTensor, FinalStateTensor, ProbsTensor)\n",
    "\n",
    "\n",
    "\n",
    "\"\"\"\n",
    "DON'T MODIFY ANYTHING IN THIS CELL THAT IS BELOW THIS LINE\n",
    "\"\"\"\n",
    "tests.test_get_tensors(get_tensors)"
   ]
  },
  {
   "cell_type": "markdown",
   "metadata": {},
   "source": [
    "### Choose Word\n",
    "Implement the `pick_word()` function to select the next word using `probabilities`.\n",
    "### 选择Word\n",
    "实现`pick_word（）`函数，使用`probabilities'来选择下一个单词。"
   ]
  },
  {
   "cell_type": "code",
   "execution_count": 23,
   "metadata": {},
   "outputs": [
    {
     "name": "stdout",
     "output_type": "stream",
     "text": [
      "Tests Passed\n"
     ]
    }
   ],
   "source": [
    "def pick_word(probabilities, int_to_vocab):\n",
    "    \"\"\"\n",
    "    Pick the next word in the generated text\n",
    "    :param probabilities: Probabilites of the next word\n",
    "    :param int_to_vocab: Dictionary of word ids as the keys and words as the values\n",
    "    :return: String of the predicted word\n",
    "    \"\"\"\n",
    "    \n",
    "    index = np.argmax(probabilities)\n",
    "    return int_to_vocab[index]\n",
    "\n",
    "\n",
    "\"\"\"\n",
    "DON'T MODIFY ANYTHING IN THIS CELL THAT IS BELOW THIS LINE\n",
    "\"\"\"\n",
    "tests.test_pick_word(pick_word)"
   ]
  },
  {
   "cell_type": "markdown",
   "metadata": {},
   "source": [
    "## Generate TV Script\n",
    "This will generate the TV script for you.  Set `gen_length` to the length of TV script you want to generate.\n",
    "## 生成电视剧\n",
    "这将为您生成电视剧本。 将`gen_length`设置为要生成的电视剧本的长度。"
   ]
  },
  {
   "cell_type": "code",
   "execution_count": 24,
   "metadata": {},
   "outputs": [
    {
     "name": "stdout",
     "output_type": "stream",
     "text": [
      "moe_szyslak:(into phone) moe's tavern. where the elite meet to drink.\n",
      "bart_simpson: that's right. and my buddy ain't no one that's gonna state his name and occupation.\n",
      "walther_hotenhoffer: my life is one texan who don't like when what do we call ourselves?\n",
      "nigel_bakerbutcher: how about handsome homer simpson plus three?\n",
      "barney_gumble: yeah... i'll take care of the drink ya...\n",
      "moe_szyslak: hey, homer, ain't that your kid on tv?\n",
      "bart_simpson:(menacing) what am i do it?\n",
      "moe_szyslak: no.\n",
      "homer_simpson:(inanely) yeah, that's all about your monkeyshines.\n",
      "moe_szyslak:(conspiratorial) bet you get into all kinds of trouble he don't even know about it.\n",
      "\n",
      "\n",
      "moe_szyslak: hey, homer, if you want to stop bashir and his war on?(standing) this is a gentleman's club!\n",
      "barney_gumble: yeah!\n",
      "homer_simpson:(gasp) no. it wasn't born now.\n",
      "moe_szyslak: you little s. o. b.(big exhale)\n",
      "moe_szyslak:(into phone\n"
     ]
    }
   ],
   "source": [
    "gen_length = 200\n",
    "# homer_simpson, moe_szyslak, or Barney_Gumble\n",
    "prime_word = 'moe_szyslak'\n",
    "\n",
    "\"\"\"\n",
    "DON'T MODIFY ANYTHING IN THIS CELL THAT IS BELOW THIS LINE\n",
    "\"\"\"\n",
    "loaded_graph = tf.Graph()\n",
    "with tf.Session(graph=loaded_graph) as sess:\n",
    "    # Load saved model\n",
    "    loader = tf.train.import_meta_graph(load_dir + '.meta')\n",
    "    loader.restore(sess, load_dir)\n",
    "\n",
    "    # Get Tensors from loaded model\n",
    "    input_text, initial_state, final_state, probs = get_tensors(loaded_graph)\n",
    "\n",
    "    # Sentences generation setup\n",
    "    gen_sentences = [prime_word + ':']\n",
    "    prev_state = sess.run(initial_state, {input_text: np.array([[1]])})\n",
    "\n",
    "    # Generate sentences\n",
    "    for n in range(gen_length):\n",
    "        # Dynamic Input\n",
    "        dyn_input = [[vocab_to_int[word] for word in gen_sentences[-seq_length:]]]\n",
    "        dyn_seq_length = len(dyn_input[0])\n",
    "\n",
    "        # Get Prediction\n",
    "        probabilities, prev_state = sess.run(\n",
    "            [probs, final_state],\n",
    "            {input_text: dyn_input, initial_state: prev_state})\n",
    "        \n",
    "        pred_word = pick_word(probabilities[dyn_seq_length-1], int_to_vocab)\n",
    "\n",
    "        gen_sentences.append(pred_word)\n",
    "    \n",
    "    # Remove tokens\n",
    "    tv_script = ' '.join(gen_sentences)\n",
    "    for key, token in token_dict.items():\n",
    "        ending = ' ' if key in ['\\n', '(', '\"'] else ''\n",
    "        tv_script = tv_script.replace(' ' + token.lower(), key)\n",
    "    tv_script = tv_script.replace('\\n ', '\\n')\n",
    "    tv_script = tv_script.replace('( ', '(')\n",
    "        \n",
    "    print(tv_script)"
   ]
  },
  {
   "cell_type": "markdown",
   "metadata": {},
   "source": [
    "# The TV Script is Nonsensical\n",
    "It's ok if the TV script doesn't make any sense.  We trained on less than a megabyte of text.  In order to get good results, you'll have to use a smaller vocabulary or get more data.  Luckly there's more data!  As we mentioned in the begging of this project, this is a subset of [another dataset](https://www.kaggle.com/wcukierski/the-simpsons-by-the-data).  We didn't have you train on all the data, because that would take too long.  However, you are free to train your neural network on all the data.  After you complete the project, of course.\n",
    "# Submitting This Project\n",
    "When submitting this project, make sure to run all the cells before saving the notebook. Save the notebook file as \"dlnd_tv_script_generation.ipynb\" and save it as a HTML file under \"File\" -> \"Download as\". Include the \"helper.py\" and \"problem_unittests.py\" files in your submission.\n",
    "\n",
    "# 电视剧是荒谬的\n",
    "没关系，电视剧没有任何意义。 我们训练了不到一兆字节的文字。 为了获得良好的效果，您必须使用较小的词汇量或获得更多数据。 幸运的是有更多的数据！ 正如我们在乞讨这个项目中提到的，这是[另一个数据集]（https://www.kaggle.com/wcukierski/the-simpsons-by-the-data）的一个子集。 我们没有你训练所有的数据，因为这将花费太长时间。 然而，您可以自由地对所有数据进行神经网络训练。 完成项目后，当然。\n",
    "# 提交此项目\n",
    "提交此项目时，请确保在保存笔记本计算机之前运行所有单元格。 将笔记本文件保存为“dlnd_tv_script_generation.ipynb”，并将其作为HTML文件保存在“文件” - >“下载为”下。 在您的提交中包含“helper.py”和“problem_unittests.py”文件。"
   ]
  },
  {
   "cell_type": "code",
   "execution_count": null,
   "metadata": {
    "collapsed": true
   },
   "outputs": [],
   "source": []
  }
 ],
 "metadata": {
  "kernelspec": {
   "display_name": "Python 3",
   "language": "python",
   "name": "python3"
  },
  "language_info": {
   "codemirror_mode": {
    "name": "ipython",
    "version": 3
   },
   "file_extension": ".py",
   "mimetype": "text/x-python",
   "name": "python",
   "nbconvert_exporter": "python",
   "pygments_lexer": "ipython3",
   "version": "3.6.1"
  },
  "widgets": {
   "state": {},
   "version": "1.1.2"
  }
 },
 "nbformat": 4,
 "nbformat_minor": 1
}
